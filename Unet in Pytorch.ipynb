{
 "cells": [
  {
   "cell_type": "code",
   "execution_count": 3,
   "metadata": {},
   "outputs": [],
   "source": [
    "import torch\n",
    "from torch import nn\n",
    "import torch.nn.functional as F\n",
    "import torch.optim as optim\n",
    "from collections import OrderedDict"
   ]
  },
  {
   "cell_type": "code",
   "execution_count": 95,
   "metadata": {},
   "outputs": [],
   "source": [
    "class Unet(nn.Module):\n",
    "    def contracting_block(self, in_channels, out_channels, kernel_size=3):\n",
    "        block = nn.Sequential(OrderedDict([\n",
    "            ('conv1', nn.Conv2d(in_channels=in_channels, out_channels=out_channels, kernel_size=kernel_size)),\n",
    "            ('relu1', nn.ReLU()),\n",
    "            ('batch_norm1', nn.BatchNorm2d(out_channels)),\n",
    "            ('conv2', nn.Conv2d(in_channels=out_channels, out_channels=out_channels, kernel_size=kernel_size)),\n",
    "            ('relu2', nn.ReLU()),\n",
    "            ('batch_norm2', nn.BatchNorm2d(out_channels))\n",
    "        ]))\n",
    "        return block\n",
    "     \n",
    "    def expansion_block(self, in_channels, mid_channels, out_channels, kernel_size=3):\n",
    "        block = nn.Sequential(OrderedDict([\n",
    "            ('conv1', nn.Conv2d(in_channels=in_channels, out_channels=mid_channels, kernel_size=kernel_size)),\n",
    "            ('relu1', nn.ReLU()),\n",
    "            ('batch_norm1', nn.BatchNorm2d(mid_channels)),\n",
    "            ('conv2', nn.Conv2d(in_channels=mid_channels, out_channels=mid_channels, kernel_size=kernel_size)),\n",
    "            ('relu2', nn.ReLU()),\n",
    "            ('batch_norm2', nn.BatchNorm2d(mid_channels)),\n",
    "            ('upconv', nn.ConvTranspose2d(in_channels=mid_channels, out_channels=out_channels, \n",
    "                                          kernel_size=3, stride=2, padding=1, output_padding=1))\n",
    "        ]))\n",
    "        return block\n",
    "    \n",
    "    def final_block(self, in_channels, mid_channels, out_channels, kernel_size=3):\n",
    "        block = nn.Sequential(OrderedDict([\n",
    "            ('conv1', nn.Conv2d(in_channels=in_channels, out_channels=mid_channels, kernel_size=kernel_size)),\n",
    "            ('relu1', nn.ReLU()),\n",
    "            ('batch_norm1', nn.BatchNorm2d(mid_channels)),\n",
    "            ('conv2', nn.Conv2d(in_channels=mid_channels, out_channels=mid_channels, kernel_size=kernel_size)),\n",
    "            ('relu2', nn.ReLU()),\n",
    "            ('batch_norm2', nn.BatchNorm2d(mid_channels)),\n",
    "            ('final_conv', nn.Conv2d(in_channels=mid_channels, out_channels=out_channels, kernel_size=kernel_size)),\n",
    "            ('relu3', nn.ReLU()),\n",
    "            ('batch_norm3', nn.BatchNorm2d(out_channels))\n",
    "        ]))\n",
    "    \n",
    "    def __init__(self, input_channels, output_channels):\n",
    "        self.max_pool = nn.MaxPool2d(kernel_size=2)\n",
    "        self.conv_encode1 = self.contracting_block(input_channels, 64)\n",
    "        self.conv_encode2 = self.contracting_block(64, 128)\n",
    "        self.conv_encode3 = self.contracting_block(128, 256)\n",
    "        self.conv_encode4 = self.contracting_block(256,512)\n",
    "        self.bottle_neck = nn.Sequential(\n",
    "            nn.Conv2d(in_channels=512, out_channels=1024, kernel_size=3),\n",
    "            nn.ReLU(),\n",
    "            nn.BatchNorm2d(1024),\n",
    "            nn.Conv2d(in_channels=1024, out_channels=1024, kernel_size=3),\n",
    "            nn.ReLU(),\n",
    "            nn.BatchNorm2d(1024),\n",
    "            nn.ConvTranspose2d(in_channels=1024, out_channels=512, kernel_size=3, stride=2, padding=1, output_padding=1)\n",
    "        )\n",
    "        \n",
    "        self.decode1 = self.expansion_block(512,256,128)\n",
    "        self.decode2 = self.expansion_block(256,128,64)\n",
    "        self.final_layer = self.final_block(128,64, output_channels)\n",
    "        "
   ]
  },
  {
   "cell_type": "code",
   "execution_count": null,
   "metadata": {},
   "outputs": [],
   "source": []
  }
 ],
 "metadata": {
  "kernelspec": {
   "display_name": "Python (fastai-3.7)",
   "language": "python",
   "name": "fastai-3.7"
  },
  "language_info": {
   "codemirror_mode": {
    "name": "ipython",
    "version": 3
   },
   "file_extension": ".py",
   "mimetype": "text/x-python",
   "name": "python",
   "nbconvert_exporter": "python",
   "pygments_lexer": "ipython3",
   "version": "3.7.1"
  }
 },
 "nbformat": 4,
 "nbformat_minor": 2
}
